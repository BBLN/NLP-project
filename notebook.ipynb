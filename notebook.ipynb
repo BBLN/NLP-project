{
 "cells": [
  {
   "cell_type": "code",
   "execution_count": null,
   "metadata": {},
   "outputs": [],
   "source": [
    "import citeme_eval\n",
    "import RAG"
   ]
  },
  {
   "cell_type": "code",
   "execution_count": null,
   "metadata": {},
   "outputs": [],
   "source": [
    "ds = citeme_eval.dataset(split='train')\n",
    "agent = RAG.CitationFinder()"
   ]
  },
  {
   "cell_type": "code",
   "execution_count": null,
   "metadata": {},
   "outputs": [],
   "source": [
    "for i, row in enumerate(ds):\n",
    "    if i > 5:\n",
    "        break\n",
    "    print(row)\n",
    "    print(agent.find_citation(row['excerpt']))"
   ]
  }
 ],
 "metadata": {
  "language_info": {
   "name": "python"
  }
 },
 "nbformat": 4,
 "nbformat_minor": 2
}
